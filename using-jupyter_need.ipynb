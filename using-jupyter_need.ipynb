{
 "cells": [
  {
   "cell_type": "markdown",
   "id": "0330c7d0-6b7c-43d3-a0bf-bb5cbcbc20d0",
   "metadata": {},
   "source": [
    "# SHIPS\n",
    "The **ships** *hung in the sky* in much the same way that **bricks** ***don’t***."
   ]
  },
  {
   "cell_type": "markdown",
   "id": "7442e416-1462-4fc6-9b81-76e1b0688d17",
   "metadata": {},
   "source": [
    "'print('Hello World!')'"
   ]
  },
  {
   "cell_type": "markdown",
   "id": "e87677ca-02f6-4677-aaa3-60b9f1d99f76",
   "metadata": {},
   "source": [
    "print('Hello World!)"
   ]
  },
  {
   "cell_type": "markdown",
   "id": "92e7812f-2777-483d-a1ed-5024cb31fcf5",
   "metadata": {},
   "source": [
    "```python\n",
    "print('Hello World!')\n",
    "```"
   ]
  }
 ],
 "metadata": {
  "kernelspec": {
   "display_name": "Python 3 (ipykernel)",
   "language": "python",
   "name": "python3"
  },
  "language_info": {
   "codemirror_mode": {
    "name": "ipython",
    "version": 3
   },
   "file_extension": ".py",
   "mimetype": "text/x-python",
   "name": "python",
   "nbconvert_exporter": "python",
   "pygments_lexer": "ipython3",
   "version": "3.13.5"
  }
 },
 "nbformat": 4,
 "nbformat_minor": 5
}
