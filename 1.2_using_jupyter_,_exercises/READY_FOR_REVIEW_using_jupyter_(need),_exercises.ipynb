{
 "cells": [
  {
   "cell_type": "markdown",
   "id": "1bcce6ea-f5d0-4916-ad01-da4ffff0c2b5",
   "metadata": {},
   "source": [
    "<div style=\"text-align:left;font-size:2em\"><span style=\"font-weight:bolder;font-size:1.25em\">SP2273 | Learning Portfolio</span><br><br><span style=\"font-weight:bold;color:darkred\">Using Jupyter (Need), Exercises</span></div>"
   ]
  },
  {
   "attachments": {},
   "cell_type": "markdown",
   "id": "ff9efc21",
   "metadata": {},
   "source": [
    "## 1 Quadratic Equations"
   ]
  },
  {
   "attachments": {},
   "cell_type": "markdown",
   "id": "bb6dce5d",
   "metadata": {},
   "source": [
    "### Introduction"
   ]
  },
  {
   "cell_type": "markdown",
   "id": "e04fb68f-4baa-4b01-955c-56d6d6dc72d4",
   "metadata": {},
   "source": [
    "![](https://upload.wikimedia.org/wikipedia/commons/thumb/f/f8/Polynomialdeg2.svg/450px-Polynomialdeg2.svg.png)\n",
    "\n",
    "*(Image from the [Wikipedia page on Quadratic Equations](https://en.wikipedia.org/wiki/Quadratic_equation))*\n",
    "\n",
    "The general form of a quadratic equation is:\n",
    "$$ax^{2} + bx + c = 0$$"
   ]
  },
  {
   "attachments": {},
   "cell_type": "markdown",
   "id": "15bb3026",
   "metadata": {},
   "source": [
    "### Solutions"
   ]
  },
  {
   "cell_type": "markdown",
   "id": "f3027974",
   "metadata": {},
   "source": [
    "Provided $a \\ne 0$, we can use an elementary algebraic method called [completing the square](https://en.wikipedia.org/wiki/Completing_the_square) to show that a quadratic equation has the following solution:\n",
    "$$x = \\dfrac{-b \\pm \\sqrt{b^{2}-4ac}}{2a}$$"
   ]
  },
  {
   "attachments": {},
   "cell_type": "markdown",
   "id": "663c95c9",
   "metadata": {},
   "source": [
    "### Discriminant"
   ]
  },
  {
   "cell_type": "markdown",
   "id": "5aafbc01",
   "metadata": {},
   "source": [
    "The quantity $\\Delta = b^{2}-4ac$ is called the **discriminant** of the equation and decides the nature of its solutions. The table below shows the various possibilities.\n",
    "\n",
    "|**Discriminant**|**Roots**|\n",
    "|:---|:---|\n",
    "|$\\Delta = b^{2}-4ac = 0$|A single solution of $-b/(2a)$|\n",
    "|$\\Delta = b^{2}-4ac \\gt 0$|Two distinct solutions|\n",
    "|$\\Delta = b^{2}-4ac \\lt 0$|No real solutions; both are complex|"
   ]
  },
  {
   "cell_type": "markdown",
   "id": "baf18042",
   "metadata": {},
   "source": [
    "## Exercise 2\n",
    "1) A Git repository is a online folder that stores all files (like Google Drive of sorts), and also allows people to view and collaborate with your work. It also tracks the history of all the changes made to your files.\n",
    "2) Git keeps track of changes in the files of our repository.\n",
    "3) A commit is when you update and save changes made to your files to your repository, and also helps to track version history.\n",
    "4) A push is uploading new data from GitHub Desktop to the online respository such that both folders are synced.\n",
    "5) A pull is downloading new data from the online repository to GitHub Desktop such that both folders are synced.\n",
    "6) GitHub Desktop identifies changes made to files in the local device while GitHub identifies changes made to files on the GitHub Website."
   ]
  },
  {
   "cell_type": "markdown",
   "id": "61fb1c72",
   "metadata": {},
   "source": [
    "## Exercise 3\n",
    "\n",
    "$$ \\mu = \\dfrac{1}{n} \\sum_{i=1}^{n} x_i $$\n",
    "$$\\sigma = \\sqrt{\\dfrac{1}{n} \\sum_{i=1}^{n} (x_i - \\mu)^{2}}$$\n",
    "$$r = \\dfrac{\\sum_{i=1}^{n} (x_i - \\mu_X)(y_i - \\mu_Y)}{\\sqrt{\\sum_{i=1}^{n} (x_i - \\mu_X)^{2} \\sum_{i=1}^{n}(y_i - \\mu_Y)^{2}}}$$"
   ]
  },
  {
   "cell_type": "markdown",
   "id": "b88b6f6b",
   "metadata": {},
   "source": [
    "$sin(θ)$"
   ]
  },
  {
   "cell_type": "markdown",
   "id": "886aa7c6",
   "metadata": {},
   "source": [
    "$\\sin(\\theta)$"
   ]
  }
 ],
 "metadata": {
  "kernelspec": {
   "display_name": "base",
   "language": "python",
   "name": "python3"
  },
  "language_info": {
   "codemirror_mode": {
    "name": "ipython",
    "version": 3
   },
   "file_extension": ".py",
   "mimetype": "text/x-python",
   "name": "python",
   "nbconvert_exporter": "python",
   "pygments_lexer": "ipython3",
   "version": "3.13.5"
  },
  "toc": {
   "base_numbering": 1,
   "nav_menu": {},
   "number_sections": true,
   "sideBar": true,
   "skip_h1_title": false,
   "title_cell": "Table of Contents",
   "title_sidebar": "Contents",
   "toc_cell": false,
   "toc_position": {},
   "toc_section_display": true,
   "toc_window_display": false
  }
 },
 "nbformat": 4,
 "nbformat_minor": 5
}
