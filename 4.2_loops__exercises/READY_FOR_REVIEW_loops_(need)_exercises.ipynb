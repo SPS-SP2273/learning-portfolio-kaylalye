{
 "cells": [
  {
   "attachments": {},
   "cell_type": "markdown",
   "id": "123456",
   "metadata": {},
   "source": [
    "<div style=\"text-align:left;font-size:2em\"><span style=\"font-weight:bolder;font-size:1.25em\">SP2273 | Learning Portfolio</span><br><br><span style=\"font-weight:bold;color:darkred\">Loops (Need) Exercises</span></div>"
   ]
  },
  {
   "cell_type": "markdown",
   "id": "f5ad75a9",
   "metadata": {},
   "source": [
    "## Exercise 1"
   ]
  },
  {
   "cell_type": "code",
   "execution_count": 9,
   "id": "c0609c03",
   "metadata": {},
   "outputs": [
    {
     "name": "stdout",
     "output_type": "stream",
     "text": [
      "0C is 32.0F.\n",
      "5C is 41.0F.\n",
      "10C is 50.0F.\n",
      "15C is 59.0F.\n",
      "20C is 68.0F.\n",
      "25C is 77.0F.\n",
      "30C is 86.0F.\n",
      "35C is 95.0F.\n",
      "40C is 104.0F.\n",
      "45C is 113.0F.\n",
      "50C is 122.0F.\n"
     ]
    }
   ],
   "source": [
    "temperatures_celsius = [\n",
    "    0, 5, 10, 15, 20, 25,\n",
    "    30, 35, 40, 45, 50\n",
    "]\n",
    "\n",
    "import numpy as np\n",
    "\n",
    "temperatures_fahrenheit = np.array(temperatures_celsius)*9/5 + 32\n",
    "\n",
    "for celsius, fahrenheit in zip(temperatures_celsius, temperatures_fahrenheit):\n",
    "    print(f\"{celsius}C is {fahrenheit}F.\")"
   ]
  },
  {
   "cell_type": "markdown",
   "id": "431acafe",
   "metadata": {},
   "source": [
    "## Exercise 2"
   ]
  },
  {
   "cell_type": "code",
   "execution_count": null,
   "id": "c7760e86",
   "metadata": {},
   "outputs": [
    {
     "name": "stdout",
     "output_type": "stream",
     "text": [
      "1 : 1\t2\t3\t4\t5\t\n",
      "\n",
      "2 : 2\t4\t6\t8\t10\t\n",
      "\n",
      "3 : 3\t6\t9\t12\t15\t\n",
      "\n",
      "4 : 4\t8\t12\t16\t20\t\n",
      "\n",
      "5 : 5\t10\t15\t20\t25\t\n",
      "\n"
     ]
    }
   ],
   "source": [
    "list = [1, 2, 3, 4, 5]\n",
    "\n",
    "for index in range(1, 6):\n",
    "    print(f\"{index}\", end=\" : \")\n",
    "    new_list = np.array(list)*index\n",
    "    for number in new_list:\n",
    "        print(f\"{number}\", end=\"\\t\")\n",
    "    print(\"\\n\")"
   ]
  },
  {
   "cell_type": "code",
   "execution_count": 4,
   "id": "b8f76a41",
   "metadata": {},
   "outputs": [
    {
     "name": "stdout",
     "output_type": "stream",
     "text": [
      "1:\t1\t2\t3\t4\t5\t6\t\n",
      "\n",
      "2:\t2\t4\t6\t8\t10\t12\t\n",
      "\n",
      "3:\t3\t6\t9\t12\t15\t18\t\n",
      "\n",
      "4:\t4\t8\t12\t16\t20\t24\t\n",
      "\n",
      "5:\t5\t10\t15\t20\t25\t30\t\n",
      "\n",
      "6:\t6\t12\t18\t24\t30\t36\t\n",
      "\n"
     ]
    }
   ],
   "source": [
    "list = [1, 2, 3, 4, 5, 6]\n",
    "\n",
    "for numbers in range(len(list)):\n",
    "    print(f'{numbers+1}:', end='\\t')\n",
    "    for numbers2 in range(len(list)):\n",
    "        multiple = (numbers+1)*(numbers2+1)\n",
    "        print(f'{multiple}', end='\\t')\n",
    "    print('\\n')"
   ]
  },
  {
   "cell_type": "markdown",
   "id": "bfbee985",
   "metadata": {},
   "source": [
    "## Exercise 3"
   ]
  },
  {
   "cell_type": "code",
   "execution_count": 151,
   "id": "d94f2a66",
   "metadata": {},
   "outputs": [
    {
     "name": "stdout",
     "output_type": "stream",
     "text": [
      "Experiment 1: No. of Heads = 5\n",
      "Experiment 2: No. of Heads = 2\n",
      "Experiment 3: No. of Heads = 4\n",
      "Experiment 4: No. of Heads = 9\n",
      "Experiment 5: No. of Heads = 3\n",
      "Experiment 6: No. of Heads = 5\n",
      "Experiment 7: No. of Heads = 8\n",
      "Experiment 8: No. of Heads = 5\n",
      "Experiment 9: No. of Heads = 8\n",
      "Experiment 10: No. of Heads = 6\n"
     ]
    }
   ],
   "source": [
    "for index in range(1, 11):\n",
    "    list = np.random.rand(10)\n",
    "    heads = 0\n",
    "    for number in list:\n",
    "        if number > 0.5:\n",
    "            heads = heads + 1\n",
    "    print(f\"Experiment {index}: No. of Heads = {heads}\")"
   ]
  }
 ],
 "metadata": {
  "kernelspec": {
   "display_name": "base",
   "language": "python",
   "name": "python3"
  },
  "language_info": {
   "codemirror_mode": {
    "name": "ipython",
    "version": 3
   },
   "file_extension": ".py",
   "mimetype": "text/x-python",
   "name": "python",
   "nbconvert_exporter": "python",
   "pygments_lexer": "ipython3",
   "version": "3.13.5"
  },
  "toc": {
   "base_numbering": 1,
   "nav_menu": {},
   "number_sections": true,
   "sideBar": true,
   "skip_h1_title": false,
   "title_cell": "Table of Contents",
   "title_sidebar": "Contents",
   "toc_cell": false,
   "toc_position": {},
   "toc_section_display": true,
   "toc_window_display": false
  }
 },
 "nbformat": 4,
 "nbformat_minor": 5
}
