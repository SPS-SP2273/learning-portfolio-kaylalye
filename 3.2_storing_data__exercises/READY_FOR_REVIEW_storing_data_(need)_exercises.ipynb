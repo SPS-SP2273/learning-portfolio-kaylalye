{
 "cells": [
  {
   "attachments": {},
   "cell_type": "markdown",
   "id": "123456",
   "metadata": {},
   "source": [
    "<div style=\"text-align:left;font-size:2em\"><span style=\"font-weight:bolder;font-size:1.25em\">SP2273 | Learning Portfolio</span><br><br><span style=\"font-weight:bold;color:darkred\">Storing Data (Need) Exercises</span></div>"
   ]
  },
  {
   "cell_type": "markdown",
   "id": "ec93eb9b",
   "metadata": {},
   "source": [
    "## Exercise 1\n",
    "Similarities:\n",
    "1) Both lists and arrays are used to store information\n",
    "2) Both lists and arrays can be multi-dimensional\n",
    "\n",
    "Differences:\n",
    "1) When adding lists, the list will expand to include new elements. However when adding arrays, the elements in the array will be added to one another respective to their position.\n",
    "2) When multiplying lists, the list will expand to include the more copies of the list. However when multiplying arrays, the elements in the array will be multiplied as in a normal math function.\n",
    "\n",
    "A dictionary is a form of storage of information, where a 'key' is required to access the 'value'."
   ]
  },
  {
   "cell_type": "markdown",
   "id": "c74f5a61",
   "metadata": {},
   "source": [
    "## Exercise 2"
   ]
  },
  {
   "cell_type": "code",
   "execution_count": 1,
   "id": "12afc937",
   "metadata": {},
   "outputs": [
    {
     "name": "stdout",
     "output_type": "stream",
     "text": [
      "a1\n",
      "c3\n",
      "e5\n",
      "g7\n",
      "i9\n"
     ]
    }
   ],
   "source": [
    "py_list = [\"a1\", \"b2\", \"c3\", \"d4\", \"e5\", \"f6\", \"g7\", \"h8\", \"i9\", \"j10\"]\n",
    "print(py_list[0])    # Prints 'a1'\n",
    "print(py_list[2])    # Prints 'c3'\n",
    "print(py_list[4])    # Prints 'e5'\n",
    "print(py_list[6])    # Prints 'g7'\n",
    "print(py_list[8])    # Prints 'i9'"
   ]
  },
  {
   "cell_type": "markdown",
   "id": "6b61e436",
   "metadata": {},
   "source": [
    "## Exercise 3"
   ]
  },
  {
   "cell_type": "code",
   "execution_count": 2,
   "id": "42e7d025",
   "metadata": {},
   "outputs": [],
   "source": [
    "elements = ['Hydrogen',\n",
    "            'Helium', 'Lithium',\n",
    "            'Beryllium', 'Boron', 'Carbon',\n",
    "            'Nitrogen', 'Oxygen',\n",
    "            'Fluorine',\n",
    "            'Neon']"
   ]
  },
  {
   "cell_type": "code",
   "execution_count": 3,
   "id": "32fbdb1a",
   "metadata": {},
   "outputs": [
    {
     "name": "stdout",
     "output_type": "stream",
     "text": [
      "Boron\n"
     ]
    }
   ],
   "source": [
    "print(elements[4])"
   ]
  },
  {
   "cell_type": "code",
   "execution_count": 5,
   "id": "a2c4901f",
   "metadata": {},
   "outputs": [
    {
     "name": "stdout",
     "output_type": "stream",
     "text": [
      "Boron\n"
     ]
    }
   ],
   "source": [
    "print(elements[-6])"
   ]
  },
  {
   "cell_type": "markdown",
   "id": "30261efc",
   "metadata": {},
   "source": [
    "## Exercise 4"
   ]
  },
  {
   "cell_type": "code",
   "execution_count": 6,
   "id": "ba9c65d1",
   "metadata": {},
   "outputs": [],
   "source": [
    "numbers=[45, 60, 1, 30, 96, 1, 96, 57, 16, 1,\n",
    "        99, 62, 86, 43, 42, 60, 59, 1, 1, 35,\n",
    "        83, 47, 34, 28, 68, 23, 22, 92, 1, 79,\n",
    "        1, 29, 94, 72, 46, 47, 1, 74, 32, 20,\n",
    "        8, 37, 35, 1, 89, 29, 86, 19, 43, 61]                  "
   ]
  },
  {
   "cell_type": "code",
   "execution_count": 8,
   "id": "512d9d2f",
   "metadata": {},
   "outputs": [
    {
     "data": {
      "text/plain": [
       "np.int64(9)"
      ]
     },
     "execution_count": 8,
     "metadata": {},
     "output_type": "execute_result"
    }
   ],
   "source": [
    "import numpy as np\n",
    "\n",
    "np_array = np.array(numbers)\n",
    "total = np_array == 1\n",
    "sum(total)"
   ]
  },
  {
   "cell_type": "markdown",
   "id": "6db7cc29",
   "metadata": {},
   "source": [
    "## Exercise 5"
   ]
  },
  {
   "cell_type": "code",
   "execution_count": 9,
   "id": "8fde1af0",
   "metadata": {},
   "outputs": [],
   "source": [
    "x_1 = [1, 4, 9, 16, 25, 36, 49, 64, 81, 100]\n",
    "x_2 = [1, 8, 27, 64, 125, 216, 343, 512, 729, 1000]"
   ]
  },
  {
   "cell_type": "code",
   "execution_count": 10,
   "id": "146c36b5",
   "metadata": {},
   "outputs": [
    {
     "data": {
      "text/plain": [
       "np.float64(38.5)"
      ]
     },
     "execution_count": 10,
     "metadata": {},
     "output_type": "execute_result"
    }
   ],
   "source": [
    "np.mean(x_1)"
   ]
  },
  {
   "cell_type": "code",
   "execution_count": 11,
   "id": "601a9080",
   "metadata": {},
   "outputs": [
    {
     "data": {
      "text/plain": [
       "np.float64(302.5)"
      ]
     },
     "execution_count": 11,
     "metadata": {},
     "output_type": "execute_result"
    }
   ],
   "source": [
    "np.mean(x_2)"
   ]
  },
  {
   "cell_type": "code",
   "execution_count": 12,
   "id": "dd4a95d8",
   "metadata": {},
   "outputs": [
    {
     "data": {
      "text/plain": [
       "np.float64(32.41990129534635)"
      ]
     },
     "execution_count": 12,
     "metadata": {},
     "output_type": "execute_result"
    }
   ],
   "source": [
    "np.std(x_1)"
   ]
  },
  {
   "cell_type": "code",
   "execution_count": 13,
   "id": "554f12ad",
   "metadata": {},
   "outputs": [
    {
     "data": {
      "text/plain": [
       "np.float64(326.0893282522444)"
      ]
     },
     "execution_count": 13,
     "metadata": {},
     "output_type": "execute_result"
    }
   ],
   "source": [
    "np.std(x_2)"
   ]
  },
  {
   "cell_type": "code",
   "execution_count": 22,
   "id": "a7465c13",
   "metadata": {},
   "outputs": [
    {
     "data": {
      "text/plain": [
       "np.float64(0.9871796626270701)"
      ]
     },
     "execution_count": 22,
     "metadata": {},
     "output_type": "execute_result"
    }
   ],
   "source": [
    "r = np.sum((x_1 - np.mean(x_1))*(x_2 - np.mean(x_2))) / np.sqrt((np.sum((x_1 - np.mean(x_1))**2))*(np.sum((x_2 - np.mean(x_2))**2)))\n",
    "r\n",
    "#cannot do ()() to multiply, must be ()*()"
   ]
  },
  {
   "cell_type": "code",
   "execution_count": 24,
   "id": "92c84aa6",
   "metadata": {},
   "outputs": [
    {
     "data": {
      "text/plain": [
       "array([[1.        , 0.98717966],\n",
       "       [0.98717966, 1.        ]])"
      ]
     },
     "execution_count": 24,
     "metadata": {},
     "output_type": "execute_result"
    }
   ],
   "source": [
    "np.corrcoef(x_1, x_2)"
   ]
  },
  {
   "cell_type": "markdown",
   "id": "9188b833",
   "metadata": {},
   "source": [
    "My results are mostly the same, however for np.corrcoef(), the value is represented in a 2d list format and only up to 8 decimal places."
   ]
  }
 ],
 "metadata": {
  "kernelspec": {
   "display_name": "base",
   "language": "python",
   "name": "python3"
  },
  "language_info": {
   "codemirror_mode": {
    "name": "ipython",
    "version": 3
   },
   "file_extension": ".py",
   "mimetype": "text/x-python",
   "name": "python",
   "nbconvert_exporter": "python",
   "pygments_lexer": "ipython3",
   "version": "3.13.5"
  },
  "toc": {
   "base_numbering": 1,
   "nav_menu": {},
   "number_sections": true,
   "sideBar": true,
   "skip_h1_title": false,
   "title_cell": "Table of Contents",
   "title_sidebar": "Contents",
   "toc_cell": false,
   "toc_position": {},
   "toc_section_display": true,
   "toc_window_display": false
  }
 },
 "nbformat": 4,
 "nbformat_minor": 5
}
