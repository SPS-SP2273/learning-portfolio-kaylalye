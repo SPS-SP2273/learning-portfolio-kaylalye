{
 "cells": [
  {
   "attachments": {},
   "cell_type": "markdown",
   "id": "123456",
   "metadata": {},
   "source": [
    "<div style=\"text-align:left;font-size:2em\"><span style=\"font-weight:bolder;font-size:1.25em\">SP2273 | Learning Portfolio</span><br><br><span style=\"font-weight:bold;color:darkred\">Functions (Good) Exercises</span></div>"
   ]
  },
  {
   "cell_type": "markdown",
   "id": "a7dcfa22",
   "metadata": {},
   "source": [
    "## Exercise 1"
   ]
  },
  {
   "cell_type": "code",
   "execution_count": 4,
   "id": "0adf956b",
   "metadata": {},
   "outputs": [],
   "source": [
    "def convert_celsius(temperature_celsius, target_scale = \"Fahrenheit\"):\n",
    "    if target_scale == \"Fahrenheit\":\n",
    "        new_temp = (temperature_celsius*9/5) + 32\n",
    "        return f\"{new_temp}F\"\n",
    "    else:\n",
    "        new_temp = temperature_celsius + 273.15\n",
    "        return f\"{new_temp}K\""
   ]
  },
  {
   "cell_type": "code",
   "execution_count": 5,
   "id": "64266036",
   "metadata": {},
   "outputs": [
    {
     "data": {
      "text/plain": [
       "'86.0F'"
      ]
     },
     "execution_count": 5,
     "metadata": {},
     "output_type": "execute_result"
    }
   ],
   "source": [
    "convert_celsius(30)"
   ]
  },
  {
   "cell_type": "code",
   "execution_count": 7,
   "id": "5a287ea2",
   "metadata": {},
   "outputs": [
    {
     "data": {
      "text/plain": [
       "'303.15K'"
      ]
     },
     "execution_count": 7,
     "metadata": {},
     "output_type": "execute_result"
    }
   ],
   "source": [
    "convert_celsius(30, \"Kelvin\")"
   ]
  },
  {
   "cell_type": "markdown",
   "id": "34c4f462",
   "metadata": {},
   "source": [
    "## Exercise 2"
   ]
  },
  {
   "cell_type": "code",
   "execution_count": 8,
   "id": "64c58f41",
   "metadata": {},
   "outputs": [],
   "source": [
    "def convert_fahrenheit(temperature_fahrenheit, target_scale = \"Celsius\"):\n",
    "    new_temp = (temperature_fahrenheit - 32)*5/9\n",
    "    if target_scale == \"Celsius\":\n",
    "        return f\"{new_temp}C\"\n",
    "    elif target_scale == \"Kelvin\":\n",
    "        new_temp = new_temp + 273.15\n",
    "        return f\"{new_temp}K\""
   ]
  },
  {
   "cell_type": "code",
   "execution_count": 9,
   "id": "760684fe",
   "metadata": {},
   "outputs": [
    {
     "data": {
      "text/plain": [
       "'30.0C'"
      ]
     },
     "execution_count": 9,
     "metadata": {},
     "output_type": "execute_result"
    }
   ],
   "source": [
    "convert_fahrenheit(86)"
   ]
  },
  {
   "cell_type": "code",
   "execution_count": 12,
   "id": "9e45b481",
   "metadata": {},
   "outputs": [
    {
     "data": {
      "text/plain": [
       "'303.15K'"
      ]
     },
     "execution_count": 12,
     "metadata": {},
     "output_type": "execute_result"
    }
   ],
   "source": [
    "convert_fahrenheit(86, \"Kelvin\")"
   ]
  },
  {
   "cell_type": "markdown",
   "id": "a3256a2a",
   "metadata": {},
   "source": [
    "## Exercise 3"
   ]
  },
  {
   "cell_type": "code",
   "execution_count": 26,
   "id": "0d1c8721",
   "metadata": {},
   "outputs": [],
   "source": [
    "def convert_temperature(temperature, source_scale, target_scale):\n",
    "    if source_scale == \"Celsius\":\n",
    "        return convert_celsius(temperature, target_scale)\n",
    "    elif source_scale == \"Fahrenheit\":\n",
    "        return convert_fahrenheit(temperature, target_scale)\n",
    "    else:\n",
    "        new_temp = temperature - 273.15\n",
    "        if target_scale == \"Celsius\":\n",
    "            print(f'{new_temp}C')\n",
    "        else:\n",
    "            print(f'{convert_celsius(new_temp)}')"
   ]
  },
  {
   "cell_type": "code",
   "execution_count": 20,
   "id": "eb20bfac",
   "metadata": {},
   "outputs": [
    {
     "data": {
      "text/plain": [
       "'303.15K'"
      ]
     },
     "execution_count": 20,
     "metadata": {},
     "output_type": "execute_result"
    }
   ],
   "source": [
    "convert_temperature(30, \"Celsius\", \"Kelvin\")"
   ]
  },
  {
   "cell_type": "code",
   "execution_count": 24,
   "id": "c109e09d",
   "metadata": {},
   "outputs": [
    {
     "data": {
      "text/plain": [
       "'30.0C'"
      ]
     },
     "execution_count": 24,
     "metadata": {},
     "output_type": "execute_result"
    }
   ],
   "source": [
    "convert_temperature(86, \"Fahrenheit\", \"Celsius\")"
   ]
  },
  {
   "cell_type": "code",
   "execution_count": 30,
   "id": "9bd25ecb",
   "metadata": {},
   "outputs": [
    {
     "name": "stdout",
     "output_type": "stream",
     "text": [
      "86.0F\n"
     ]
    }
   ],
   "source": [
    "convert_temperature(303.15, \"Kelvin\", \"Fahrenheit\")"
   ]
  }
 ],
 "metadata": {
  "kernelspec": {
   "display_name": "base",
   "language": "python",
   "name": "python3"
  },
  "language_info": {
   "codemirror_mode": {
    "name": "ipython",
    "version": 3
   },
   "file_extension": ".py",
   "mimetype": "text/x-python",
   "name": "python",
   "nbconvert_exporter": "python",
   "pygments_lexer": "ipython3",
   "version": "3.13.5"
  },
  "toc": {
   "base_numbering": 1,
   "nav_menu": {},
   "number_sections": true,
   "sideBar": true,
   "skip_h1_title": false,
   "title_cell": "Table of Contents",
   "title_sidebar": "Contents",
   "toc_cell": false,
   "toc_position": {},
   "toc_section_display": true,
   "toc_window_display": false
  }
 },
 "nbformat": 4,
 "nbformat_minor": 5
}
