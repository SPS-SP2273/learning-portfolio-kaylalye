{
 "cells": [
  {
   "attachments": {},
   "cell_type": "markdown",
   "id": "123456",
   "metadata": {},
   "source": [
    "<div style=\"text-align:left;font-size:2em\"><span style=\"font-weight:bolder;font-size:1.25em\">SP2273 | Learning Portfolio</span><br><br><span style=\"font-weight:bold;color:darkred\">Fundamentals (Good) Exercises</span></div>"
   ]
  },
  {
   "cell_type": "markdown",
   "id": "f99af0e1",
   "metadata": {},
   "source": [
    "## Exercise 1"
   ]
  },
  {
   "cell_type": "code",
   "execution_count": 5,
   "id": "48099be5",
   "metadata": {},
   "outputs": [
    {
     "name": "stdout",
     "output_type": "stream",
     "text": [
      "How you doin \u001b[1mSTINKY\u001b[0m!\n"
     ]
    }
   ],
   "source": [
    "user_input = input(\"Hi, what's your name?\")\n",
    "print(f\"How you doin \\033[1m{user_input.upper()}\\033[0m!\")"
   ]
  },
  {
   "cell_type": "code",
   "execution_count": 9,
   "id": "9c1010c9",
   "metadata": {},
   "outputs": [
    {
     "name": "stdout",
     "output_type": "stream",
     "text": [
      "My name is \u001b[1mSTINKY\u001b[0m and I am \u001b[1m9\u001b[0m years old.\n"
     ]
    }
   ],
   "source": [
    "user_name = input(\"Hi, what's your name?\")\n",
    "user_age = input(\"How old are you?\")\n",
    "print(f\"My name is \\033[1m{user_name.upper()}\\033[0m and I am \\033[1m{user_age}\\033[0m years old.\")"
   ]
  },
  {
   "cell_type": "code",
   "execution_count": 12,
   "id": "009b1f9a",
   "metadata": {},
   "outputs": [
    {
     "name": "stdout",
     "output_type": "stream",
     "text": [
      "The value of pi to 2 decimal places is: 3.14\n",
      "The value of pi to 3 decimal places is: 3.142\n",
      "The value of pi to 4 decimal paces is: 3.1416\n"
     ]
    }
   ],
   "source": [
    "pi = 3.141592653589793\n",
    "\n",
    "print(f\"The value of pi to 2 decimal places is: {pi:.2f}\")\n",
    "print(f\"The value of pi to 3 decimal places is: {pi:.3f}\")\n",
    "print(f\"The value of pi to 4 decimal paces is: {pi:.4f}\")"
   ]
  },
  {
   "cell_type": "code",
   "execution_count": 3,
   "id": "9979918e",
   "metadata": {},
   "outputs": [
    {
     "name": "stdout",
     "output_type": "stream",
     "text": [
      "Apple      $ 0.99\n",
      "Banana     $ 0.59\n",
      "Orange     $ 1.29\n"
     ]
    }
   ],
   "source": [
    "print(f'{\"Apple\":<10} ${\"0.99\":>5}')\n",
    "print(f'{\"Banana\":<10} ${\"0.59\":>5}')\n",
    "print(f'{\"Orange\":<10} ${\"1.29\":>5}')"
   ]
  },
  {
   "cell_type": "markdown",
   "id": "d586789f",
   "metadata": {},
   "source": [
    "## Exercise 2"
   ]
  },
  {
   "cell_type": "code",
   "execution_count": 12,
   "id": "0d4fcb30",
   "metadata": {},
   "outputs": [
    {
     "name": "stdout",
     "output_type": "stream",
     "text": [
      "Please input a number from 0 to 100\n"
     ]
    }
   ],
   "source": [
    "user_score = input(\"What is your score?\")\n",
    "\n",
    "if user_score.isnumeric() == False:\n",
    "    print(\"Please input a number from 0 to 100\")\n",
    "else:\n",
    "    user_score = float(user_score)\n",
    "\n",
    "    if user_score < 0 or user_score > 100:\n",
    "        print(\"Please input a number from 0 to 100\")\n",
    "    elif user_score <= 34:\n",
    "        print(\"The student's letter grade is: Fail\")\n",
    "    elif 35 <= user_score <= 49:\n",
    "        print(\"The student's letter grade is: C\")\n",
    "    elif 50 <= user_score <= 69:\n",
    "        print(\"The student's letter grade is: B\")\n",
    "    elif 70 <= user_score <= 100:\n",
    "        print(\"The student's letter grade is: A\")"
   ]
  },
  {
   "cell_type": "markdown",
   "id": "25dbc2f3",
   "metadata": {},
   "source": [
    "## Exercise 3"
   ]
  },
  {
   "cell_type": "code",
   "execution_count": 18,
   "id": "3aa50981",
   "metadata": {},
   "outputs": [
    {
     "name": "stdout",
     "output_type": "stream",
     "text": [
      "120\n",
      "Invalid input\n"
     ]
    }
   ],
   "source": [
    "def factorial(n):\n",
    "    if n < 0:\n",
    "        return \"Invalid input\"\n",
    "    elif n == 0:\n",
    "        return 1\n",
    "    else:\n",
    "        result = 1\n",
    "        for number in range(1, n+1):\n",
    "            result *= number\n",
    "        return result\n",
    "\n",
    "\n",
    "print(factorial(5))   # Testing, expected output: 120\n",
    "print(factorial(-1))  # Testing, expected output: Invalid input"
   ]
  }
 ],
 "metadata": {
  "kernelspec": {
   "display_name": "base",
   "language": "python",
   "name": "python3"
  },
  "language_info": {
   "codemirror_mode": {
    "name": "ipython",
    "version": 3
   },
   "file_extension": ".py",
   "mimetype": "text/x-python",
   "name": "python",
   "nbconvert_exporter": "python",
   "pygments_lexer": "ipython3",
   "version": "3.13.5"
  },
  "toc": {
   "base_numbering": 1,
   "nav_menu": {},
   "number_sections": true,
   "sideBar": true,
   "skip_h1_title": false,
   "title_cell": "Table of Contents",
   "title_sidebar": "Contents",
   "toc_cell": false,
   "toc_position": {},
   "toc_section_display": true,
   "toc_window_display": false
  }
 },
 "nbformat": 4,
 "nbformat_minor": 5
}
