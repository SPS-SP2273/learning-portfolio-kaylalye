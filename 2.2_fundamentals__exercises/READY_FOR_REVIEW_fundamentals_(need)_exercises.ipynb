{
 "cells": [
  {
   "attachments": {},
   "cell_type": "markdown",
   "id": "123456",
   "metadata": {},
   "source": [
    "<div style=\"text-align:left;font-size:2em\"><span style=\"font-weight:bolder;font-size:1.25em\">SP2273 | Learning Portfolio</span><br><br><span style=\"font-weight:bold;color:darkred\">Fundamentals (Need) Exercises</span></div>"
   ]
  },
  {
   "cell_type": "markdown",
   "id": "7c16c446",
   "metadata": {},
   "source": [
    "## Exercise 1\n",
    "1) Python is interpreted\n",
    "2) Python is case-sensitive\n",
    "3) Python ignores #comments\n",
    "4) = is not the same as ==\n",
    "5) Python is sensitive to spaces *(Indentations are important)*\n",
    "\n",
    "*- Use if to make decisions*<br>*- 'age' is English, age is a variable*<br>*- Brackets: () are used for functions and math, [] are used for lists and {} are used to store data in a dictionary*<br>*- Importing packages into Python*<br>*- The dot is used to indicate ownership*\n"
   ]
  },
  {
   "cell_type": "markdown",
   "id": "b1efbbae",
   "metadata": {},
   "source": [
    "## Exercise 2\n"
   ]
  },
  {
   "cell_type": "code",
   "execution_count": 4,
   "id": "5effb4c6",
   "metadata": {},
   "outputs": [],
   "source": [
    "import numpy as np"
   ]
  },
  {
   "cell_type": "code",
   "execution_count": 22,
   "id": "6b724e6c",
   "metadata": {},
   "outputs": [
    {
     "name": "stdout",
     "output_type": "stream",
     "text": [
      "3, 4, 5\n"
     ]
    }
   ],
   "source": [
    "x, y = 3, 4\n",
    "z = np.sqrt((x**2 + y**2))\n",
    "print(f'{x}, {y}, {z:.0f}')"
   ]
  },
  {
   "cell_type": "markdown",
   "id": "3d7d36dd",
   "metadata": {},
   "source": [
    "## Exercise 3\n",
    "\n",
    "|  #  |  Term  |  Description  |\n",
    "|:---:| :----: | :----: |\n",
    "|  1  |  Function  |  Functions are commands that Python reads and carries out|\n",
    "|  2  |  Arguments  |  Arguments are the data that functions are carried out on|\n",
    "|  3  |  Comments  |  Comments are extra notes in the code which Python will not read when running the code|\n",
    "|  4  |  Indentations  |  Indentations are spaces at the start of each line of code|\n",
    "|  5  |  Packages  |  Packages have extra functions that Python can use when imported|\n",
    "|  6  |  .  |  '.' is used to indicate what the function that comes after the dot belongs to or works on|\n",
    "|  7  |  :  |  ':' is used to indicate the start of some commands (such as if: else:)|\n",
    "|  8  |  []  |  '[]' is used for creating 1D lists|\n",
    "|  9  |  [[],[]] |  '[[],[]]' is used for creating 2D lists|\n",
    "|  10  |  {}  |  '{}' is used for storing data in dictionaries, or to define variables in some functions (such as f strings)|"
   ]
  },
  {
   "cell_type": "markdown",
   "id": "f0f2f4e9",
   "metadata": {},
   "source": [
    "## Exercise 4"
   ]
  },
  {
   "cell_type": "code",
   "execution_count": 2,
   "id": "35f0426a",
   "metadata": {},
   "outputs": [
    {
     "data": {
      "text/plain": [
       "2.5"
      ]
     },
     "execution_count": 2,
     "metadata": {},
     "output_type": "execute_result"
    }
   ],
   "source": [
    "5/2 #divides 5 by 2 and gives the answer"
   ]
  },
  {
   "cell_type": "code",
   "execution_count": null,
   "id": "d823706f",
   "metadata": {},
   "outputs": [
    {
     "data": {
      "text/plain": [
       "2"
      ]
     },
     "execution_count": 4,
     "metadata": {},
     "output_type": "execute_result"
    }
   ],
   "source": [
    "5//2 #divides 5 by 2 and gives the quotient"
   ]
  },
  {
   "cell_type": "code",
   "execution_count": 9,
   "id": "d2ddb90e",
   "metadata": {},
   "outputs": [
    {
     "data": {
      "text/plain": [
       "1"
      ]
     },
     "execution_count": 9,
     "metadata": {},
     "output_type": "execute_result"
    }
   ],
   "source": [
    "5%2 #divides 5 by 2 and gives the remainder"
   ]
  }
 ],
 "metadata": {
  "kernelspec": {
   "display_name": "base",
   "language": "python",
   "name": "python3"
  },
  "language_info": {
   "codemirror_mode": {
    "name": "ipython",
    "version": 3
   },
   "file_extension": ".py",
   "mimetype": "text/x-python",
   "name": "python",
   "nbconvert_exporter": "python",
   "pygments_lexer": "ipython3",
   "version": "3.13.5"
  },
  "toc": {
   "base_numbering": 1,
   "nav_menu": {},
   "number_sections": true,
   "sideBar": true,
   "skip_h1_title": false,
   "title_cell": "Table of Contents",
   "title_sidebar": "Contents",
   "toc_cell": false,
   "toc_position": {},
   "toc_section_display": true,
   "toc_window_display": false
  }
 },
 "nbformat": 4,
 "nbformat_minor": 5
}
